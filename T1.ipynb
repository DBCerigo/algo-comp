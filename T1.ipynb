{
 "cells": [
  {
   "cell_type": "markdown",
   "metadata": {},
   "source": [
    "https://app.codility.com/programmers/lessons/4-counting_elements/max_counters/"
   ]
  },
  {
   "cell_type": "code",
   "execution_count": 3,
   "metadata": {
    "collapsed": true
   },
   "outputs": [],
   "source": [
    "import IPython.core.ultratb\n",
    "import sys\n",
    "from deepdiff import DeepDiff"
   ]
  },
  {
   "cell_type": "code",
   "execution_count": 61,
   "metadata": {
    "collapsed": true
   },
   "outputs": [],
   "source": [
    "test_cases = [\n",
    "    ([[5, 3, 8, 9, 4, 1, 3, -2], \n",
    "     [4, 6, 0, 3, 6, 4, 2, 1], \n",
    "     [4, -5, 3, 1, 9, 5, 6, 6], \n",
    "     [3, 7, 5, 3, 2, 8, 9, 4], \n",
    "     [5, 3, -3, 6, 3, 2, 8, 0], \n",
    "     [5, 7, 5, 3, 3, -9, 2, 2], \n",
    "     [0, 4, 3, 2, 5, 7, 5, 4]], 91),\n",
    "    ([[1,1],[2,2]], 2),\n",
    "    ([[]], 0),\n",
    "    ([[1],[1],[1]],2),\n",
    "]"
   ]
  },
  {
   "cell_type": "code",
   "execution_count": null,
   "metadata": {
    "collapsed": true
   },
   "outputs": [],
   "source": []
  },
  {
   "cell_type": "code",
   "execution_count": 62,
   "metadata": {},
   "outputs": [],
   "source": [
    "def solution(A):\n",
    "    tot = 0\n",
    "    for i in range(max(len(A),len(A[0]))):\n",
    "        if not A:\n",
    "            break\n",
    "        tot += sum(A[0])\n",
    "        if not A:\n",
    "            break\n",
    "        A = A[1:-1]\n",
    "        if not A:\n",
    "            break\n",
    "        tot += sum([a[-1] for a in A])\n",
    "        if not A:\n",
    "            break\n",
    "        A = [a[1:-1] for a in A]\n",
    "        if not A:\n",
    "            break\n",
    "        tot += sum(A[-1])\n",
    "        if not A:\n",
    "            break\n",
    "        A = A[1:-1]\n",
    "        if not A:\n",
    "            break\n",
    "        tot += sum([a[1] for a in A])\n",
    "        if not A:\n",
    "            break\n",
    "        A = [a[1:-1] for a in A]\n",
    "        if not A:\n",
    "            break\n",
    "    return tot"
   ]
  },
  {
   "cell_type": "code",
   "execution_count": 63,
   "metadata": {
    "scrolled": false
   },
   "outputs": [
    {
     "name": "stdout",
     "output_type": "stream",
     "text": [
      "CASE 0\n",
      "{}\n",
      "CASE 1\n",
      "{}\n",
      "CASE 2\n",
      "{}\n",
      "CASE 3\n",
      "{}\n"
     ]
    }
   ],
   "source": [
    "PRINT_INPUTS = False\n",
    "PRINT_OUTPUTS = False\n",
    "PRINT_RESULTS = False\n",
    "PRINT_TIMES = False\n",
    "\n",
    "\n",
    "for i, case in enumerate(test_cases):\n",
    "    print('CASE',i)\n",
    "    try:\n",
    "        if PRINT_INPUTS:\n",
    "            print(case[0])\n",
    "        if PRINT_OUTPUTS:\n",
    "            print(case[1])\n",
    "        result = solution(case[0]) # add * for multiple args\n",
    "        if PRINT_RESULTS:\n",
    "            print(result)\n",
    "        print(DeepDiff(case[1], result))\n",
    "        if PRINT_TIMES:\n",
    "            %timeit -n100 solution(case[0]) # add * for multiple args\n",
    "    except Exception as e:\n",
    "        tb = IPython.core.ultratb.VerboseTB()\n",
    "        print(tb.text(*sys.exc_info()))\n",
    "    "
   ]
  },
  {
   "cell_type": "code",
   "execution_count": null,
   "metadata": {
    "collapsed": true
   },
   "outputs": [],
   "source": []
  }
 ],
 "metadata": {
  "kernelspec": {
   "display_name": "Python 3",
   "language": "python",
   "name": "python3"
  },
  "language_info": {
   "codemirror_mode": {
    "name": "ipython",
    "version": 3
   },
   "file_extension": ".py",
   "mimetype": "text/x-python",
   "name": "python",
   "nbconvert_exporter": "python",
   "pygments_lexer": "ipython3",
   "version": "3.6.2"
  }
 },
 "nbformat": 4,
 "nbformat_minor": 2
}
