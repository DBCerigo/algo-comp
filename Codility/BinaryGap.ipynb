{
 "cells": [
  {
   "cell_type": "markdown",
   "metadata": {},
   "source": [
    "https://app.codility.com/programmers/lessons/1-iterations/binary_gap/"
   ]
  },
  {
   "cell_type": "code",
   "execution_count": 21,
   "metadata": {
    "collapsed": true
   },
   "outputs": [],
   "source": [
    "import IPython.core.ultratb\n",
    "import sys\n",
    "from deepdiff import DeepDiff"
   ]
  },
  {
   "cell_type": "code",
   "execution_count": null,
   "metadata": {
    "collapsed": true
   },
   "outputs": [],
   "source": []
  },
  {
   "cell_type": "code",
   "execution_count": 22,
   "metadata": {
    "collapsed": true
   },
   "outputs": [],
   "source": [
    "def to_bin_list(N):\n",
    "    return [int(x) for x in list(\"{0:b}\".format(N))]"
   ]
  },
  {
   "cell_type": "code",
   "execution_count": 38,
   "metadata": {},
   "outputs": [
    {
     "data": {
      "text/plain": [
       "[1, 0, 1]"
      ]
     },
     "execution_count": 38,
     "metadata": {},
     "output_type": "execute_result"
    }
   ],
   "source": [
    "to_bin_list(5)"
   ]
  },
  {
   "cell_type": "code",
   "execution_count": 24,
   "metadata": {},
   "outputs": [
    {
     "data": {
      "text/plain": [
       "[0]"
      ]
     },
     "execution_count": 24,
     "metadata": {},
     "output_type": "execute_result"
    }
   ],
   "source": [
    "to_bin_list(0)"
   ]
  },
  {
   "cell_type": "code",
   "execution_count": 25,
   "metadata": {},
   "outputs": [
    {
     "data": {
      "text/plain": [
       "[1, 0, 0, 1, 1, 1, 0, 0, 0, 1, 0, 0, 0, 1]"
      ]
     },
     "execution_count": 25,
     "metadata": {},
     "output_type": "execute_result"
    }
   ],
   "source": [
    "to_bin_list(10001)"
   ]
  },
  {
   "cell_type": "code",
   "execution_count": 26,
   "metadata": {},
   "outputs": [
    {
     "data": {
      "text/plain": [
       "2"
      ]
     },
     "execution_count": 26,
     "metadata": {},
     "output_type": "execute_result"
    }
   ],
   "source": [
    "to_bin_list(52).index(0)"
   ]
  },
  {
   "cell_type": "code",
   "execution_count": 27,
   "metadata": {
    "collapsed": true
   },
   "outputs": [],
   "source": [
    "s1s = [i for i, x in enumerate(to_bin_list(52)) if x == 1]"
   ]
  },
  {
   "cell_type": "code",
   "execution_count": 28,
   "metadata": {},
   "outputs": [],
   "source": [
    "diffs = []\n",
    "for i in range(len(s1s[1:])):\n",
    "    diffs.append(s1s[i+1]-s1s[i])"
   ]
  },
  {
   "cell_type": "code",
   "execution_count": 29,
   "metadata": {},
   "outputs": [
    {
     "data": {
      "text/plain": [
       "[1, 2]"
      ]
     },
     "execution_count": 29,
     "metadata": {},
     "output_type": "execute_result"
    }
   ],
   "source": [
    "diffs"
   ]
  },
  {
   "cell_type": "code",
   "execution_count": 39,
   "metadata": {
    "collapsed": true
   },
   "outputs": [],
   "source": [
    "test_cases = [\n",
    "        (0, 0),\n",
    "        (1041, 5),\n",
    "        (52, 1),\n",
    "        (10001, 3),\n",
    "        (5, 1)\n",
    "]"
   ]
  },
  {
   "cell_type": "code",
   "execution_count": 51,
   "metadata": {},
   "outputs": [],
   "source": [
    "def solution(N):\n",
    "    a = [int(x) for x in list(\"{0:b}\".format(N))]\n",
    "    if len(a) <=2:\n",
    "        return 0\n",
    "    b = [i for i, x in enumerate(a) if x == 1]\n",
    "    diffs = []\n",
    "    for i in range(len(b[1:])):\n",
    "        diffs.append(b[i+1]-b[i])\n",
    "    print(diffs)\n",
    "    return max(diffs)-1"
   ]
  },
  {
   "cell_type": "markdown",
   "metadata": {
    "collapsed": true
   },
   "source": [
    "want, just if equal and what's not equal if not, - GOT   \n",
    "want option to print input (but not if the input is massive for stress testing right?) - GOT  \n",
    "want time each takes to run - GOT"
   ]
  },
  {
   "cell_type": "code",
   "execution_count": 52,
   "metadata": {
    "scrolled": false
   },
   "outputs": [
    {
     "name": "stdout",
     "output_type": "stream",
     "text": [
      "0\n",
      "{}\n",
      "1\n",
      "[6, 4]\n",
      "{}\n",
      "2\n",
      "[1, 2]\n",
      "{}\n",
      "3\n",
      "[3, 1, 1, 4, 4]\n",
      "{}\n",
      "4\n",
      "[2]\n",
      "{}\n"
     ]
    }
   ],
   "source": [
    "PRINT_INPUTS = False\n",
    "PRINT_OUTPUTS = False\n",
    "PRINT_TIMES = False\n",
    "\n",
    "\n",
    "for i, case in enumerate(test_cases):\n",
    "    print(i)\n",
    "    try:\n",
    "        if PRINT_INPUTS:\n",
    "            print(case[0])\n",
    "        if PRINT_OUTPUTS:\n",
    "            print(case[1])\n",
    "        result = solution(case[0])\n",
    "        print(DeepDiff(case[1], result))\n",
    "        if PRINT_TIMES:\n",
    "            %timeit -n100 solution(case[0])\n",
    "    except Exception as e:\n",
    "        tb = IPython.core.ultratb.VerboseTB()\n",
    "        print(tb.text(*sys.exc_info()))\n",
    "    "
   ]
  },
  {
   "cell_type": "code",
   "execution_count": null,
   "metadata": {
    "collapsed": true
   },
   "outputs": [],
   "source": []
  }
 ],
 "metadata": {
  "kernelspec": {
   "display_name": "Python 3",
   "language": "python",
   "name": "python3"
  },
  "language_info": {
   "codemirror_mode": {
    "name": "ipython",
    "version": 3
   },
   "file_extension": ".py",
   "mimetype": "text/x-python",
   "name": "python",
   "nbconvert_exporter": "python",
   "pygments_lexer": "ipython3",
   "version": "3.6.2"
  }
 },
 "nbformat": 4,
 "nbformat_minor": 2
}
