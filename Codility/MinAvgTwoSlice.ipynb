{
 "cells": [
  {
   "cell_type": "markdown",
   "metadata": {},
   "source": [
    "https://app.codility.com/programmers/lessons/5-prefix_sums/min_avg_two_slice/"
   ]
  },
  {
   "cell_type": "code",
   "execution_count": 2,
   "metadata": {
    "collapsed": true
   },
   "outputs": [],
   "source": [
    "import IPython.core.ultratb\n",
    "import sys\n",
    "from deepdiff import DeepDiff"
   ]
  },
  {
   "cell_type": "code",
   "execution_count": 3,
   "metadata": {
    "collapsed": true
   },
   "outputs": [],
   "source": [
    "test_cases = [\n",
    "    ([4,2,2,5,1,5,8], 1),\n",
    "    ([-100,-100,100,100],0),\n",
    "    ([100,100,-100,-100],2),\n",
    "    ([1000,1000],0)\n",
    "]"
   ]
  },
  {
   "cell_type": "code",
   "execution_count": 44,
   "metadata": {
    "collapsed": true
   },
   "outputs": [],
   "source": [
    "import math\n",
    "def solution(A):\n",
    "    if len(A) == 2:\n",
    "        return 0\n",
    "    averages = []\n",
    "    for i, x in enumerate(A[:-1]):\n",
    "        print('i loop', i,x)\n",
    "        current_average = None\n",
    "        current_sum = x\n",
    "        for j, y in enumerate(A[i+1:]):\n",
    "            print('j loop', j,y)\n",
    "            current_sum += y\n",
    "            if current_average is not None:\n",
    "                new_average = current_sum/(j+2)\n",
    "                print('new_average', new_average)\n",
    "                if new_average > current_average:\n",
    "                    #averages.append(current_average)\n",
    "                    break\n",
    "                else:\n",
    "                    current_average = current_sum/(j+2)\n",
    "            else:\n",
    "                current_average = current_sum/(j+2)\n",
    "            print('current_average', current_average)\n",
    "        averages.append(current_average)\n",
    "    print(averages)\n",
    "    return(averages.index(min(averages)))"
   ]
  },
  {
   "cell_type": "markdown",
   "metadata": {
    "collapsed": true
   },
   "source": [
    "want, just if equal and what's not equal if not, - GOT   \n",
    "want option to print input (but not if the input is massive for stress testing right?) - GOT  \n",
    "want time each takes to run - GOT"
   ]
  },
  {
   "cell_type": "code",
   "execution_count": 45,
   "metadata": {
    "scrolled": false
   },
   "outputs": [
    {
     "name": "stdout",
     "output_type": "stream",
     "text": [
      "CASE 0\n",
      "i loop 0 4\n",
      "j loop 0 2\n",
      "current_average 3.0\n",
      "j loop 1 2\n",
      "new_average 2.6666666666666665\n",
      "current_average 2.6666666666666665\n",
      "j loop 2 5\n",
      "new_average 3.25\n",
      "i loop 1 2\n",
      "j loop 0 2\n",
      "current_average 2.0\n",
      "j loop 1 5\n",
      "new_average 3.0\n",
      "i loop 2 2\n",
      "j loop 0 5\n",
      "current_average 3.5\n",
      "j loop 1 1\n",
      "new_average 2.6666666666666665\n",
      "current_average 2.6666666666666665\n",
      "j loop 2 5\n",
      "new_average 3.25\n",
      "i loop 3 5\n",
      "j loop 0 1\n",
      "current_average 3.0\n",
      "j loop 1 5\n",
      "new_average 3.6666666666666665\n",
      "i loop 4 1\n",
      "j loop 0 5\n",
      "current_average 3.0\n",
      "j loop 1 8\n",
      "new_average 4.666666666666667\n",
      "i loop 5 5\n",
      "j loop 0 8\n",
      "current_average 6.5\n",
      "[2.6666666666666665, 2.0, 2.6666666666666665, 3.0, 3.0, 6.5]\n",
      "{}\n",
      "CASE 1\n",
      "i loop 0 -100\n",
      "j loop 0 -100\n",
      "current_average -100.0\n",
      "j loop 1 100\n",
      "new_average -33.333333333333336\n",
      "i loop 1 -100\n",
      "j loop 0 100\n",
      "current_average 0.0\n",
      "j loop 1 100\n",
      "new_average 33.333333333333336\n",
      "i loop 2 100\n",
      "j loop 0 100\n",
      "current_average 100.0\n",
      "[-100.0, 0.0, 100.0]\n",
      "{}\n",
      "CASE 2\n",
      "i loop 0 100\n",
      "j loop 0 100\n",
      "current_average 100.0\n",
      "j loop 1 -100\n",
      "new_average 33.333333333333336\n",
      "current_average 33.333333333333336\n",
      "j loop 2 -100\n",
      "new_average 0.0\n",
      "current_average 0.0\n",
      "i loop 1 100\n",
      "j loop 0 -100\n",
      "current_average 0.0\n",
      "j loop 1 -100\n",
      "new_average -33.333333333333336\n",
      "current_average -33.333333333333336\n",
      "i loop 2 -100\n",
      "j loop 0 -100\n",
      "current_average -100.0\n",
      "[0.0, -33.333333333333336, -100.0]\n",
      "{}\n",
      "CASE 3\n",
      "{}\n"
     ]
    }
   ],
   "source": [
    "PRINT_INPUTS = False\n",
    "PRINT_OUTPUTS = False\n",
    "PRINT_RESULTS = False\n",
    "PRINT_TIMES = False\n",
    "\n",
    "\n",
    "for i, case in enumerate(test_cases):\n",
    "    print('CASE',i)\n",
    "    try:\n",
    "        if PRINT_INPUTS:\n",
    "            print(case[0])\n",
    "        if PRINT_OUTPUTS:\n",
    "            print(case[1])\n",
    "        result = solution(case[0]) # add * for multiple args\n",
    "        if PRINT_RESULTS:\n",
    "            print(result)\n",
    "        print(DeepDiff(case[1], result))\n",
    "        if PRINT_TIMES:\n",
    "            %timeit -n100 solution(case[0]) # add * for multiple args\n",
    "    except Exception as e:\n",
    "        tb = IPython.core.ultratb.VerboseTB()\n",
    "        print(tb.text(*sys.exc_info()))\n",
    "    "
   ]
  },
  {
   "cell_type": "code",
   "execution_count": null,
   "metadata": {
    "collapsed": true
   },
   "outputs": [],
   "source": []
  }
 ],
 "metadata": {
  "kernelspec": {
   "display_name": "Python 3",
   "language": "python",
   "name": "python3"
  },
  "language_info": {
   "codemirror_mode": {
    "name": "ipython",
    "version": 3
   },
   "file_extension": ".py",
   "mimetype": "text/x-python",
   "name": "python",
   "nbconvert_exporter": "python",
   "pygments_lexer": "ipython3",
   "version": "3.6.2"
  }
 },
 "nbformat": 4,
 "nbformat_minor": 2
}
