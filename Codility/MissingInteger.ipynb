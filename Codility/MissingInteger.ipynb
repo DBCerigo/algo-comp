{
 "cells": [
  {
   "cell_type": "markdown",
   "metadata": {},
   "source": [
    "https://app.codility.com/programmers/lessons/4-counting_elements/missing_integer/"
   ]
  },
  {
   "cell_type": "code",
   "execution_count": 1,
   "metadata": {
    "collapsed": true
   },
   "outputs": [],
   "source": [
    "import IPython.core.ultratb\n",
    "import sys\n",
    "from deepdiff import DeepDiff"
   ]
  },
  {
   "cell_type": "code",
   "execution_count": 41,
   "metadata": {},
   "outputs": [],
   "source": [
    "test_cases = [\n",
    "    ([1, 3, 6, 4, 1, 2], 5),\n",
    "    ([1, 3, 6, 4, 1], 2),\n",
    "    ([-1,-2],1),\n",
    "    ([1,2,3],4),\n",
    "    ([1],2),\n",
    "    ([100],1),\n",
    "    ([2],1),\n",
    "    ([3,4,2],1),\n",
    "]"
   ]
  },
  {
   "cell_type": "markdown",
   "metadata": {},
   "source": [
    "Write an efficient algorithm for the following assumptions:\n",
    "\n",
    "N is an integer within the range [1..100,000];  \n",
    "each element of array A is an integer within the range [−1,000,000..1,000,000].\n"
   ]
  },
  {
   "cell_type": "code",
   "execution_count": 42,
   "metadata": {
    "collapsed": true
   },
   "outputs": [],
   "source": [
    "def solution(A):\n",
    "    A = [a for a in A if a > 0]\n",
    "    if not A:\n",
    "        return 1\n",
    "    A.append(0)\n",
    "    A = sorted(A)\n",
    "    for i in range(len(A)-1):\n",
    "        diff = A[i+1] - A[i]\n",
    "        if diff > 1:\n",
    "            return A[i]+1\n",
    "    return A[-1]+1"
   ]
  },
  {
   "cell_type": "markdown",
   "metadata": {
    "collapsed": true
   },
   "source": [
    "want, just if equal and what's not equal if not, - GOT   \n",
    "want option to print input (but not if the input is massive for stress testing right?) - GOT  \n",
    "want time each takes to run - GOT"
   ]
  },
  {
   "cell_type": "code",
   "execution_count": 43,
   "metadata": {
    "scrolled": false
   },
   "outputs": [
    {
     "name": "stdout",
     "output_type": "stream",
     "text": [
      "0\n",
      "5\n",
      "5\n",
      "{}\n",
      "1\n",
      "2\n",
      "2\n",
      "{}\n",
      "2\n",
      "1\n",
      "1\n",
      "{}\n",
      "3\n",
      "4\n",
      "4\n",
      "{}\n",
      "4\n",
      "2\n",
      "2\n",
      "{}\n",
      "5\n",
      "1\n",
      "1\n",
      "{}\n",
      "6\n",
      "1\n",
      "1\n",
      "{}\n",
      "7\n",
      "1\n",
      "1\n",
      "{}\n"
     ]
    }
   ],
   "source": [
    "PRINT_INPUTS = False\n",
    "PRINT_OUTPUTS = True\n",
    "PRINT_RESULTS = True\n",
    "PRINT_TIMES = False\n",
    "\n",
    "\n",
    "for i, case in enumerate(test_cases):\n",
    "    print(i)\n",
    "    try:\n",
    "        if PRINT_INPUTS:\n",
    "            print(case[0])\n",
    "        if PRINT_OUTPUTS:\n",
    "            print(case[1])\n",
    "        result = solution(case[0])\n",
    "        if PRINT_RESULTS:\n",
    "            print(result)\n",
    "        print(DeepDiff(case[1], result))\n",
    "        if PRINT_TIMES:\n",
    "            %timeit -n100 solution(case[0])\n",
    "    except Exception as e:\n",
    "        tb = IPython.core.ultratb.VerboseTB()\n",
    "        print(tb.text(*sys.exc_info()))\n",
    "    "
   ]
  },
  {
   "cell_type": "code",
   "execution_count": null,
   "metadata": {
    "collapsed": true
   },
   "outputs": [],
   "source": []
  },
  {
   "cell_type": "code",
   "execution_count": null,
   "metadata": {
    "collapsed": true
   },
   "outputs": [],
   "source": []
  }
 ],
 "metadata": {
  "kernelspec": {
   "display_name": "Python 3",
   "language": "python",
   "name": "python3"
  },
  "language_info": {
   "codemirror_mode": {
    "name": "ipython",
    "version": 3
   },
   "file_extension": ".py",
   "mimetype": "text/x-python",
   "name": "python",
   "nbconvert_exporter": "python",
   "pygments_lexer": "ipython3",
   "version": "3.6.2"
  }
 },
 "nbformat": 4,
 "nbformat_minor": 2
}
