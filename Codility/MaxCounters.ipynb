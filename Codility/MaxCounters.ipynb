{
 "cells": [
  {
   "cell_type": "markdown",
   "metadata": {},
   "source": [
    "https://app.codility.com/programmers/lessons/4-counting_elements/max_counters/"
   ]
  },
  {
   "cell_type": "code",
   "execution_count": 17,
   "metadata": {
    "collapsed": true
   },
   "outputs": [],
   "source": [
    "import IPython.core.ultratb\n",
    "import sys\n",
    "from deepdiff import DeepDiff\n",
    "import time"
   ]
  },
  {
   "cell_type": "code",
   "execution_count": 30,
   "metadata": {
    "collapsed": true
   },
   "outputs": [],
   "source": [
    "test_cases = (\n",
    "    ((5, [3,4,4,6,1,4,4]), [3, 2, 2, 4, 2]),\n",
    "    ((5, [3]), [0, 0, 1, 0, 0]),\n",
    "    ((5, [6]), [0, 0, 0, 0, 0]),\n",
    "    ((5, [3,6]), [1, 1, 1, 1, 1]),\n",
    "    ((1, [3,6]), [0,]),\n",
    "    ((1, [1]), [1]),\n",
    "    ((1000, [1001]*1000),[0]*1000)\n",
    "    )"
   ]
  },
  {
   "cell_type": "code",
   "execution_count": 31,
   "metadata": {
    "collapsed": true
   },
   "outputs": [],
   "source": [
    "def solution(N, A):\n",
    "    result = [0]*N\n",
    "    for opp in A:\n",
    "        if opp > N:\n",
    "            # make max\n",
    "            result = [max(result)]*N\n",
    "        else:\n",
    "            result[opp-1] += 1\n",
    "    return result"
   ]
  },
  {
   "cell_type": "markdown",
   "metadata": {
    "collapsed": true
   },
   "source": [
    "want, just if equal and what's not equal if not, - GOT   \n",
    "want option to print input (but not if the input is massive for stress testing right?) - GOT  \n",
    "want time each takes to run - GOT"
   ]
  },
  {
   "cell_type": "code",
   "execution_count": 32,
   "metadata": {
    "scrolled": false
   },
   "outputs": [
    {
     "name": "stdout",
     "output_type": "stream",
     "text": [
      "0\n",
      "{}\n",
      "1\n",
      "{}\n",
      "2\n",
      "{}\n",
      "3\n",
      "{}\n",
      "4\n",
      "{}\n",
      "5\n",
      "{}\n",
      "6\n",
      "{}\n"
     ]
    }
   ],
   "source": [
    "PRINT_INPUTS = False\n",
    "PRINT_OUTPUTS = False\n",
    "PRINT_TIMES = False\n",
    "\n",
    "\n",
    "for i, case in enumerate(test_cases):\n",
    "    print(i)\n",
    "    try:\n",
    "        if PRINT_INPUTS:\n",
    "            print(case[0])\n",
    "        if PRINT_OUTPUTS:\n",
    "            print(case[1])\n",
    "        result = solution(case[0][0],case[0][1])\n",
    "        print(DeepDiff(case[1], result))\n",
    "        if PRINT_TIMES:\n",
    "            %timeit -n100 solution(case[0][0],case[0][1])\n",
    "    except Exception as e:\n",
    "        tb = IPython.core.ultratb.VerboseTB()\n",
    "        print(tb.text(*sys.exc_info()))\n",
    "    "
   ]
  }
 ],
 "metadata": {
  "kernelspec": {
   "display_name": "Python 3",
   "language": "python",
   "name": "python3"
  },
  "language_info": {
   "codemirror_mode": {
    "name": "ipython",
    "version": 3
   },
   "file_extension": ".py",
   "mimetype": "text/x-python",
   "name": "python",
   "nbconvert_exporter": "python",
   "pygments_lexer": "ipython3",
   "version": "3.6.2"
  }
 },
 "nbformat": 4,
 "nbformat_minor": 2
}
