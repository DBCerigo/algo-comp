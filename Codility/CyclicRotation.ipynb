{
 "cells": [
  {
   "cell_type": "markdown",
   "metadata": {},
   "source": [
    "https://app.codility.com/programmers/lessons/2-arrays/cyclic_rotation/"
   ]
  },
  {
   "cell_type": "code",
   "execution_count": 3,
   "metadata": {
    "collapsed": true
   },
   "outputs": [],
   "source": [
    "import IPython.core.ultratb\n",
    "import sys\n",
    "from deepdiff import DeepDiff"
   ]
  },
  {
   "cell_type": "code",
   "execution_count": null,
   "metadata": {
    "collapsed": true
   },
   "outputs": [],
   "source": []
  },
  {
   "cell_type": "code",
   "execution_count": 37,
   "metadata": {
    "collapsed": true
   },
   "outputs": [],
   "source": [
    "test_cases = [\n",
    "        (([1,2,3],4), [3,1,2]),\n",
    "        (([1],4), [1]),\n",
    "        (([1,1,1,1,1,1,1,1,1],0), [1,1,1,1,1,1,1,1,1]),\n",
    "        (([1,1,1,1,1,1,1,1,1],0), [1,1,1,1,1,1,1,1,1]),\n",
    "        (([],10), []),\n",
    "]"
   ]
  },
  {
   "cell_type": "code",
   "execution_count": 40,
   "metadata": {
    "collapsed": true
   },
   "outputs": [],
   "source": [
    "from itertools import cycle\n",
    "def solution(A,N):\n",
    "    if not A:\n",
    "        return []\n",
    "    rev_A = reversed(A)\n",
    "    remainder =  N % len(A)\n",
    "    cy = cycle(rev_A)\n",
    "    for i in range(remainder):\n",
    "        next(cy)\n",
    "    rev_res = [next(cy) for i in A]\n",
    "    res_it = reversed(rev_res)\n",
    "    res = [next(res_it) for i in A]\n",
    "    return res"
   ]
  },
  {
   "cell_type": "markdown",
   "metadata": {
    "collapsed": true
   },
   "source": [
    "want, just if equal and what's not equal if not, - GOT   \n",
    "want option to print input (but not if the input is massive for stress testing right?) - GOT  \n",
    "want time each takes to run - GOT"
   ]
  },
  {
   "cell_type": "code",
   "execution_count": 41,
   "metadata": {
    "scrolled": false
   },
   "outputs": [
    {
     "name": "stdout",
     "output_type": "stream",
     "text": [
      "0\n",
      "{}\n",
      "1\n",
      "{}\n",
      "2\n",
      "{}\n",
      "3\n",
      "{}\n",
      "4\n",
      "{}\n"
     ]
    }
   ],
   "source": [
    "PRINT_INPUTS = False\n",
    "PRINT_OUTPUTS = False\n",
    "PRINT_TIMES = False\n",
    "\n",
    "\n",
    "for i, case in enumerate(test_cases):\n",
    "    print(i)\n",
    "    try:\n",
    "        if PRINT_INPUTS:\n",
    "            print(case[0])\n",
    "        if PRINT_OUTPUTS:\n",
    "            print(case[1])\n",
    "        result = solution(case[0][0],case[0][1])\n",
    "        print(DeepDiff(case[1], result))\n",
    "        if PRINT_TIMES:\n",
    "            %timeit -n100 solution(case[0][0],case[0][1])\n",
    "    except Exception as e:\n",
    "        tb = IPython.core.ultratb.VerboseTB()\n",
    "        print(tb.text(*sys.exc_info()))\n",
    "    "
   ]
  },
  {
   "cell_type": "code",
   "execution_count": null,
   "metadata": {
    "collapsed": true
   },
   "outputs": [],
   "source": []
  }
 ],
 "metadata": {
  "kernelspec": {
   "display_name": "Python 3",
   "language": "python",
   "name": "python3"
  },
  "language_info": {
   "codemirror_mode": {
    "name": "ipython",
    "version": 3
   },
   "file_extension": ".py",
   "mimetype": "text/x-python",
   "name": "python",
   "nbconvert_exporter": "python",
   "pygments_lexer": "ipython3",
   "version": "3.6.2"
  }
 },
 "nbformat": 4,
 "nbformat_minor": 2
}
