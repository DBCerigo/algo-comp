{
 "cells": [
  {
   "cell_type": "markdown",
   "metadata": {},
   "source": [
    "https://app.codility.com/programmers/lessons/4-counting_elements/max_counters/"
   ]
  },
  {
   "cell_type": "code",
   "execution_count": 9,
   "metadata": {},
   "outputs": [],
   "source": [
    "test_cases = [\n",
    "    ((5, [3,4,4,6,1,4,4]), [3, 2, 2, 4, 2]),\n",
    "    ((5, [3]), [0, 0, 1, 0, 0]),\n",
    "    ((5, [6]), [0, 0, 0, 0, 0]),\n",
    "    ((5, [3,6]), [1, 1, 1, 1, 1]),\n",
    "    ((1, [3,6]), [0]),\n",
    "    ((1, [1]), [1]),\n",
    "]"
   ]
  },
  {
   "cell_type": "code",
   "execution_count": 10,
   "metadata": {
    "collapsed": true
   },
   "outputs": [],
   "source": [
    "def solution(N, A):\n",
    "    result = [0]*N\n",
    "    for opp in A:\n",
    "        if opp > N:\n",
    "            # make max\n",
    "            result = [max(result)]*N\n",
    "        else:\n",
    "    pass"
   ]
  },
  {
   "cell_type": "code",
   "execution_count": 12,
   "metadata": {},
   "outputs": [
    {
     "name": "stdout",
     "output_type": "stream",
     "text": [
      "None\n",
      "((5, [3, 4, 4, 6, 1, 4, 4]), [3, 2, 2, 4, 2])\n",
      "None\n",
      "((5, [3]), [0, 0, 1, 0, 0])\n",
      "None\n",
      "((5, [6]), [0, 0, 0, 0, 0])\n",
      "None\n",
      "((5, [3, 6]), [1, 1, 1, 1, 1])\n",
      "None\n",
      "((1, [3, 6]), [0])\n",
      "None\n",
      "((1, [1]), [1])\n"
     ]
    }
   ],
   "source": [
    "for case in test_cases:\n",
    "    try:\n",
    "        print(solution(case[0][0],case[0][1]))\n",
    "        print(case)\n",
    "    except Exception as e:\n",
    "        print(e)"
   ]
  },
  {
   "cell_type": "code",
   "execution_count": null,
   "metadata": {
    "collapsed": true
   },
   "outputs": [],
   "source": []
  }
 ],
 "metadata": {
  "kernelspec": {
   "display_name": "Python 3",
   "language": "python",
   "name": "python3"
  },
  "language_info": {
   "codemirror_mode": {
    "name": "ipython",
    "version": 3
   },
   "file_extension": ".py",
   "mimetype": "text/x-python",
   "name": "python",
   "nbconvert_exporter": "python",
   "pygments_lexer": "ipython3",
   "version": "3.6.2"
  }
 },
 "nbformat": 4,
 "nbformat_minor": 2
}
