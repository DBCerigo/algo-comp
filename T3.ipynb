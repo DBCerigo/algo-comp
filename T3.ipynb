{
 "cells": [
  {
   "cell_type": "markdown",
   "metadata": {},
   "source": [
    "https://app.codility.com/programmers/lessons/4-counting_elements/max_counters/"
   ]
  },
  {
   "cell_type": "code",
   "execution_count": 1,
   "metadata": {
    "collapsed": true
   },
   "outputs": [],
   "source": [
    "import IPython.core.ultratb\n",
    "import sys\n",
    "from deepdiff import DeepDiff"
   ]
  },
  {
   "cell_type": "code",
   "execution_count": 5,
   "metadata": {},
   "outputs": [],
   "source": [
    "test_cases = [\n",
    "    ([[5, 4, 4], [4, 3, 4], [3, 2, 4], [2, 2, 2], [3, 3, 4], [1, 4, 4], [4, 1, 1]], 11),\n",
    "    ([[1,1],[1,1]], 1),\n",
    "    \n",
    "]"
   ]
  },
  {
   "cell_type": "code",
   "execution_count": 8,
   "metadata": {
    "collapsed": true
   },
   "outputs": [],
   "source": [
    "def solution(A):\n",
    "    checked = [[False for j in range(len(A[0]))]for i in range(len(A))]\n",
    "    print(checked)\n",
    "    for i in range(len(A)):\n",
    "        for j in range(len(A[0])):\n",
    "            pass\n",
    "            "
   ]
  },
  {
   "cell_type": "markdown",
   "metadata": {
    "collapsed": true
   },
   "source": [
    "want, just if equal and what's not equal if not, - GOT   \n",
    "want option to print input (but not if the input is massive for stress testing right?) - GOT  \n",
    "want time each takes to run - GOT"
   ]
  },
  {
   "cell_type": "code",
   "execution_count": 9,
   "metadata": {
    "scrolled": false
   },
   "outputs": [
    {
     "name": "stdout",
     "output_type": "stream",
     "text": [
      "CASE 0\n",
      "[[False, False, False], [False, False, False], [False, False, False], [False, False, False], [False, False, False], [False, False, False], [False, False, False]]\n",
      "{'type_changes': {'root': {'old_type': <class 'int'>, 'new_type': <class 'NoneType'>, 'old_value': 11, 'new_value': None}}}\n",
      "CASE 1\n",
      "[[False, False], [False, False]]\n",
      "{'type_changes': {'root': {'old_type': <class 'int'>, 'new_type': <class 'NoneType'>, 'old_value': 1, 'new_value': None}}}\n"
     ]
    }
   ],
   "source": [
    "PRINT_INPUTS = False\n",
    "PRINT_OUTPUTS = False\n",
    "PRINT_RESULTS = False\n",
    "PRINT_TIMES = False\n",
    "\n",
    "\n",
    "for i, case in enumerate(test_cases):\n",
    "    print('CASE',i)\n",
    "    try:\n",
    "        if PRINT_INPUTS:\n",
    "            print(case[0])\n",
    "        if PRINT_OUTPUTS:\n",
    "            print(case[1])\n",
    "        result = solution(case[0]) # add * for multiple args\n",
    "        if PRINT_RESULTS:\n",
    "            print(result)\n",
    "        print(DeepDiff(case[1], result))\n",
    "        if PRINT_TIMES:\n",
    "            %timeit -n100 solution(case[0]) # add * for multiple args\n",
    "    except Exception as e:\n",
    "        tb = IPython.core.ultratb.VerboseTB()\n",
    "        print(tb.text(*sys.exc_info()))\n",
    "    "
   ]
  },
  {
   "cell_type": "code",
   "execution_count": null,
   "metadata": {
    "collapsed": true
   },
   "outputs": [],
   "source": []
  }
 ],
 "metadata": {
  "kernelspec": {
   "display_name": "Python 3",
   "language": "python",
   "name": "python3"
  },
  "language_info": {
   "codemirror_mode": {
    "name": "ipython",
    "version": 3
   },
   "file_extension": ".py",
   "mimetype": "text/x-python",
   "name": "python",
   "nbconvert_exporter": "python",
   "pygments_lexer": "ipython3",
   "version": "3.6.2"
  }
 },
 "nbformat": 4,
 "nbformat_minor": 2
}
