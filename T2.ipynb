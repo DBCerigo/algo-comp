{
 "cells": [
  {
   "cell_type": "markdown",
   "metadata": {},
   "source": [
    "https://app.codility.com/programmers/lessons/4-counting_elements/max_counters/"
   ]
  },
  {
   "cell_type": "code",
   "execution_count": 97,
   "metadata": {
    "collapsed": true
   },
   "outputs": [],
   "source": [
    "import IPython.core.ultratb\n",
    "import sys\n",
    "from deepdiff import DeepDiff"
   ]
  },
  {
   "cell_type": "code",
   "execution_count": 137,
   "metadata": {},
   "outputs": [],
   "source": [
    "test_cases = [\n",
    "    (-11, 'LLRL'),\n",
    "    (0, ''),\n",
    "    (1, ''),\n",
    "    (21, 'LLRLR'),\n",
    "    (2, 'R'),\n",
    "    (4, 'RR'),\n",
    "    (8, 'RRR'),\n",
    "    (-9999999999, '?')\n",
    "    \n",
    "]"
   ]
  },
  {
   "cell_type": "code",
   "execution_count": 138,
   "metadata": {
    "collapsed": true
   },
   "outputs": [],
   "source": [
    "def L(l,r):\n",
    "    return(2*l-r,r)\n",
    "def R(l,r):\n",
    "    return(l,2*r-l)"
   ]
  },
  {
   "cell_type": "code",
   "execution_count": 160,
   "metadata": {},
   "outputs": [
    {
     "data": {
      "text/plain": [
       "(0, 1024)"
      ]
     },
     "execution_count": 160,
     "metadata": {},
     "output_type": "execute_result"
    }
   ],
   "source": [
    "t = (0,1)\n",
    "for i in range(10):\n",
    "    t = R(*t)\n",
    "t"
   ]
  },
  {
   "cell_type": "code",
   "execution_count": 161,
   "metadata": {},
   "outputs": [
    {
     "data": {
      "text/plain": [
       "(-1023, 1)"
      ]
     },
     "execution_count": 161,
     "metadata": {},
     "output_type": "execute_result"
    }
   ],
   "source": [
    "t = (0,1)\n",
    "for i in range(10):\n",
    "    t = L(*t)\n",
    "t"
   ]
  },
  {
   "cell_type": "code",
   "execution_count": 170,
   "metadata": {},
   "outputs": [],
   "source": [
    "from itertools import combinations_with_replacement, permutations\n",
    "def L(l,r):\n",
    "    return(2*l-r,r)\n",
    "def R(l,r):\n",
    "    return(l,2*r-l)\n",
    "def solution(N):\n",
    "    t = (0,1)\n",
    "    opps = ['L','R']\n",
    "    if N in t:\n",
    "        return ''\n",
    "    for i in range(10):\n",
    "        for combo in combinations_with_replacement(opps,i):\n",
    "            for specific_list in permutations(combo):\n",
    "                t = (0,1)\n",
    "                for opp in specific_list:\n",
    "                    if opp == 'L':\n",
    "                        t = L(*t)\n",
    "                    else:\n",
    "                        t = R(*t)\n",
    "                if N in t:\n",
    "                    return ''.join(specific_list)\n",
    "    return 'impossible'\n",
    "\n",
    "            \n",
    "            \n"
   ]
  },
  {
   "cell_type": "code",
   "execution_count": 171,
   "metadata": {},
   "outputs": [
    {
     "name": "stdout",
     "output_type": "stream",
     "text": [
      "('L', 'L', 'L', 'L')\n",
      "('L', 'L', 'L', 'R')\n",
      "('L', 'L', 'R', 'R')\n",
      "('L', 'R', 'R', 'R')\n",
      "('R', 'R', 'R', 'R')\n"
     ]
    }
   ],
   "source": [
    "for i in combinations_with_replacement(['L','R'], 4):\n",
    "    print(i)"
   ]
  },
  {
   "cell_type": "code",
   "execution_count": 172,
   "metadata": {},
   "outputs": [
    {
     "name": "stdout",
     "output_type": "stream",
     "text": [
      "('L', 'R')\n",
      "('R', 'L')\n"
     ]
    }
   ],
   "source": [
    "for i in permutations(['L','R'], 2):\n",
    "    print(i)"
   ]
  },
  {
   "cell_type": "code",
   "execution_count": 173,
   "metadata": {
    "scrolled": false
   },
   "outputs": [
    {
     "name": "stdout",
     "output_type": "stream",
     "text": [
      "CASE 0\n",
      "{}\n",
      "65.5 µs ± 4.86 µs per loop (mean ± std. dev. of 7 runs, 1 loop each)\n",
      "CASE 1\n",
      "{}\n",
      "500 ns ± 320 ns per loop (mean ± std. dev. of 7 runs, 1 loop each)\n",
      "CASE 2\n",
      "{}\n",
      "446 ns ± 287 ns per loop (mean ± std. dev. of 7 runs, 1 loop each)\n",
      "CASE 3\n",
      "{}\n",
      "444 µs ± 3.34 µs per loop (mean ± std. dev. of 7 runs, 1 loop each)\n",
      "CASE 4\n",
      "{}\n",
      "3.69 µs ± 1.53 µs per loop (mean ± std. dev. of 7 runs, 1 loop each)\n",
      "CASE 5\n",
      "{}\n",
      "7.78 µs ± 1.99 µs per loop (mean ± std. dev. of 7 runs, 1 loop each)\n",
      "CASE 6\n",
      "{}\n",
      "37.6 µs ± 8.5 µs per loop (mean ± std. dev. of 7 runs, 1 loop each)\n",
      "CASE 7\n",
      "{'values_changed': {'root': {'new_value': 'impossible', 'old_value': '?'}}}\n",
      "9.32 s ± 119 ms per loop (mean ± std. dev. of 7 runs, 1 loop each)\n"
     ]
    }
   ],
   "source": [
    "PRINT_INPUTS = False\n",
    "PRINT_OUTPUTS = False\n",
    "PRINT_RESULTS = False\n",
    "PRINT_TIMES = True\n",
    "\n",
    "\n",
    "for i, case in enumerate(test_cases):\n",
    "    print('CASE',i)\n",
    "    try:\n",
    "        if PRINT_INPUTS:\n",
    "            print(case[0])\n",
    "        if PRINT_OUTPUTS:\n",
    "            print(case[1])\n",
    "        result = solution(case[0]) # add * for multiple args\n",
    "        if PRINT_RESULTS:\n",
    "            print(result)\n",
    "        print(DeepDiff(case[1], result))\n",
    "        if PRINT_TIMES:\n",
    "            %timeit -n1 solution(case[0]) # add * for multiple args\n",
    "    except Exception as e:\n",
    "        tb = IPython.core.ultratb.VerboseTB()\n",
    "        print(tb.text(*sys.exc_info()))\n",
    "    "
   ]
  },
  {
   "cell_type": "code",
   "execution_count": null,
   "metadata": {
    "collapsed": true
   },
   "outputs": [],
   "source": []
  },
  {
   "cell_type": "code",
   "execution_count": null,
   "metadata": {
    "collapsed": true
   },
   "outputs": [],
   "source": []
  }
 ],
 "metadata": {
  "kernelspec": {
   "display_name": "Python 3",
   "language": "python",
   "name": "python3"
  },
  "language_info": {
   "codemirror_mode": {
    "name": "ipython",
    "version": 3
   },
   "file_extension": ".py",
   "mimetype": "text/x-python",
   "name": "python",
   "nbconvert_exporter": "python",
   "pygments_lexer": "ipython3",
   "version": "3.6.2"
  }
 },
 "nbformat": 4,
 "nbformat_minor": 2
}
